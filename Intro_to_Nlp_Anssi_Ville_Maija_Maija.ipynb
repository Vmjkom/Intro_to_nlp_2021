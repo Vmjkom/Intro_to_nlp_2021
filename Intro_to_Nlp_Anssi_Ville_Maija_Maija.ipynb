{
  "nbformat": 4,
  "nbformat_minor": 0,
  "metadata": {
    "colab": {
      "name": "Intro_to_Nlp_Anssi_Ville_Maija_Maija",
      "provenance": [],
      "collapsed_sections": []
    },
    "kernelspec": {
      "name": "python3",
      "display_name": "Python 3"
    }
  },
  "cells": [
    {
      "cell_type": "code",
      "metadata": {
        "colab": {
          "base_uri": "https://localhost:8080/"
        },
        "id": "xE52uS2_2tuy",
        "outputId": "db0414dc-9c49-48b2-ddaf-475a70b5775f"
      },
      "source": [
        "!wget -nc http://dl.turkunlp.org/TKO_8966_2021-projects/joy-annotation-combined.tsv"
      ],
      "execution_count": 1,
      "outputs": [
        {
          "output_type": "stream",
          "text": [
            "--2021-02-25 11:12:15--  http://dl.turkunlp.org/TKO_8966_2021-projects/joy-annotation-combined.tsv\n",
            "Resolving dl.turkunlp.org (dl.turkunlp.org)... 195.148.30.23\n",
            "Connecting to dl.turkunlp.org (dl.turkunlp.org)|195.148.30.23|:80... connected.\n",
            "HTTP request sent, awaiting response... 200 OK\n",
            "Length: 540561 (528K) [application/octet-stream]\n",
            "Saving to: ‘joy-annotation-combined.tsv’\n",
            "\n",
            "joy-annotation-comb 100%[===================>] 527.89K   635KB/s    in 0.8s    \n",
            "\n",
            "2021-02-25 11:12:16 (635 KB/s) - ‘joy-annotation-combined.tsv’ saved [540561/540561]\n",
            "\n"
          ],
          "name": "stdout"
        }
      ]
    },
    {
      "cell_type": "code",
      "metadata": {
        "id": "HwJrxzRW5xFW"
      },
      "source": [
        ""
      ],
      "execution_count": null,
      "outputs": []
    }
  ]
}